{
 "cells": [
  {
   "cell_type": "code",
   "execution_count": 11,
   "metadata": {},
   "outputs": [],
   "source": [
    "import pandas as pd"
   ]
  },
  {
   "cell_type": "code",
   "execution_count": null,
   "metadata": {},
   "outputs": [
    {
     "name": "stdout",
     "output_type": "stream",
     "text": [
      "PREMISES_TYPE\n",
      "Outside        10835\n",
      "Apartment       8851\n",
      "House           5335\n",
      "Other           4473\n",
      "Commercial      4279\n",
      "Educational     1578\n",
      "Transit          774\n",
      "Name: count, dtype: int64\n",
      "<class 'pandas.core.frame.DataFrame'>\n",
      "RangeIndex: 36125 entries, 0 to 36124\n",
      "Data columns (total 36 columns):\n",
      " #   Column             Non-Null Count  Dtype         \n",
      "---  ------             --------------  -----         \n",
      " 0   OBJECTID           36125 non-null  int64         \n",
      " 1   EVENT_UNIQUE_ID    36125 non-null  object        \n",
      " 2   PRIMARY_OFFENCE    36125 non-null  object        \n",
      " 3   OCC_DATE           36125 non-null  datetime64[ns]\n",
      " 4   OCC_YEAR           36125 non-null  int64         \n",
      " 5   OCC_MONTH          36125 non-null  object        \n",
      " 6   OCC_DOW            36125 non-null  object        \n",
      " 7   OCC_DAY            36125 non-null  int64         \n",
      " 8   OCC_DOY            36125 non-null  int64         \n",
      " 9   OCC_HOUR           36125 non-null  int64         \n",
      " 10  REPORT_DATE        36125 non-null  datetime64[ns]\n",
      " 11  REPORT_YEAR        36125 non-null  int64         \n",
      " 12  REPORT_MONTH       36125 non-null  object        \n",
      " 13  REPORT_DOW         36125 non-null  object        \n",
      " 14  REPORT_DAY         36125 non-null  int64         \n",
      " 15  REPORT_DOY         36125 non-null  int64         \n",
      " 16  REPORT_HOUR        36125 non-null  int64         \n",
      " 17  DIVISION           36125 non-null  object        \n",
      " 18  LOCATION_TYPE      36125 non-null  object        \n",
      " 19  PREMISES_TYPE      36125 non-null  object        \n",
      " 20  BIKE_MAKE          35949 non-null  object        \n",
      " 21  BIKE_MODEL         22715 non-null  object        \n",
      " 22  BIKE_TYPE          36125 non-null  object        \n",
      " 23  BIKE_SPEED         36125 non-null  float64       \n",
      " 24  BIKE_COLOUR        32946 non-null  object        \n",
      " 25  BIKE_COST          36125 non-null  float64       \n",
      " 26  STATUS             36125 non-null  object        \n",
      " 27  HOOD_158           36125 non-null  object        \n",
      " 28  NEIGHBOURHOOD_158  36125 non-null  object        \n",
      " 29  HOOD_140           36125 non-null  object        \n",
      " 30  NEIGHBOURHOOD_140  36125 non-null  object        \n",
      " 31  LONG_WGS84         36125 non-null  float64       \n",
      " 32  LAT_WGS84          36125 non-null  float64       \n",
      " 33  x                  36125 non-null  float64       \n",
      " 34  y                  36125 non-null  float64       \n",
      " 35  REPORT_DELAY       36125 non-null  float64       \n",
      "dtypes: datetime64[ns](2), float64(7), int64(9), object(18)\n",
      "memory usage: 9.9+ MB\n",
      "None\n",
      "\n",
      "Số lượng giá trị null trong mỗi cột:\n",
      "BIKE_MAKE        176\n",
      "BIKE_MODEL     13410\n",
      "BIKE_COLOUR     3179\n",
      "dtype: int64\n"
     ]
    }
   ],
   "source": [
    "import pandas as pd\n",
    "import numpy as np\n",
    "from datetime import datetime\n",
    "\n",
    "df = pd.read_csv('../src/data/Bicycle_Thefts.csv')\n",
    "\n",
    "print(df['PREMISES_TYPE'].value_counts())\n",
    "\n",
    "def clean_bicycle_data(df):\n",
    "    df_clean = df.copy()\n",
    "    df_clean.loc[df_clean['PREMISES_TYPE'].isin(['Apartment', 'House']), 'PREMISES_TYPE'] = 'Residential'\n",
    "    df_clean.loc[df_clean['PREMISES_TYPE'] == 'Transit', 'PREMISES_TYPE'] = 'Other'\n",
    "    df_clean.loc[df_clean['PREMISES_TYPE'] == 'Educational', 'PREMISES_TYPE'] = 'Commercial'\n",
    "\n",
    "    \n",
    "    datetime_columns = ['OCC_DATE', 'REPORT_DATE']\n",
    "    for col in datetime_columns:\n",
    "        df_clean[col] = pd.to_datetime(df_clean[col])\n",
    "    \n",
    "    df_clean['BIKE_COST'] = pd.to_numeric(df_clean['BIKE_COST'], errors='coerce')\n",
    "    df_clean['BIKE_COST'] = df_clean['BIKE_COST'].fillna(0)\n",
    "    \n",
    "    df_clean['BIKE_SPEED'] = pd.to_numeric(df_clean['BIKE_SPEED'], errors='coerce')\n",
    "    df_clean['BIKE_SPEED'] = df_clean['BIKE_SPEED'].fillna(df_clean['BIKE_SPEED'].median())\n",
    "    \n",
    "    df_clean['BIKE_TYPE'] = df_clean['BIKE_TYPE'].fillna('UNKNOWN')\n",
    "    \n",
    "    df_clean['LOCATION_TYPE'] = df_clean['LOCATION_TYPE'].fillna('UNKNOWN')\n",
    "    df_clean['PREMISES_TYPE'] = df_clean['PREMISES_TYPE'].fillna('Other')\n",
    "    \n",
    "    df_clean['REPORT_DELAY'] = (df_clean['REPORT_DATE'] - df_clean['OCC_DATE']).dt.total_seconds() / 3600\n",
    "    \n",
    "    df_clean['BIKE_MAKE'] = df_clean['BIKE_MAKE'].str.strip().str.upper()\n",
    "    df_clean['BIKE_MODEL'] = df_clean['BIKE_MODEL'].str.strip().str.upper()\n",
    "        \n",
    "    return df_clean\n",
    "    \n",
    "\n",
    "df_cleaned = clean_bicycle_data(df)\n",
    "\n",
    "print(df_cleaned.info())\n",
    "\n",
    "null_counts = df_cleaned.isnull().sum()\n",
    "print(\"\\nSố lượng giá trị null trong mỗi cột:\")\n",
    "print(null_counts[null_counts > 0])\n",
    "\n",
    "df_cleaned.to_csv('../src/data/clean_data.csv', index=False)\n"
   ]
  },
  {
   "cell_type": "code",
   "execution_count": 53,
   "metadata": {},
   "outputs": [
    {
     "data": {
      "text/plain": [
       "BIKE_COST\n",
       "0.0       4165\n",
       "500.0     2646\n",
       "1000.0    2180\n",
       "600.0     1728\n",
       "800.0     1471\n",
       "          ... \n",
       "1089.0       1\n",
       "858.8        1\n",
       "461.0        1\n",
       "945.0        1\n",
       "634.0        1\n",
       "Name: count, Length: 2146, dtype: int64"
      ]
     },
     "execution_count": 53,
     "metadata": {},
     "output_type": "execute_result"
    }
   ],
   "source": [
    "import pandas as pd\n",
    "df = pd.read_csv('../src/data/clean_data.csv')\n",
    "df['BIKE_COST'].value_counts()\n"
   ]
  },
  {
   "cell_type": "code",
   "execution_count": null,
   "metadata": {},
   "outputs": [],
   "source": [
    "import pandas as pd\n",
    "\n",
    "data =pd.read_csv('../data_ingestion_service/src/data/Bicycle_Thefts_Open_Data.csv')"
   ]
  },
  {
   "cell_type": "code",
   "execution_count": 6,
   "metadata": {},
   "outputs": [
    {
     "name": "stdout",
     "output_type": "stream",
     "text": [
      "Total records: 37178\n",
      "Records before 2024-09-01: 36907\n",
      "Records after 2024-09-01: 271\n",
      "\n",
      "Files created:\n",
      "- ../data_ingestion_service/src/data/Bicycle_Thefts_Open_Data_before_sept2024.csv\n",
      "- ../data_ingestion_service/src/data/Bicycle_Thefts_Open_Data_after_sept2024.csv\n"
     ]
    }
   ],
   "source": [
    "import pandas as pd\n",
    "from datetime import datetime\n",
    "\n",
    "def split_csv_by_date(input_file, cutoff_date):\n",
    "    # Read the CSV file\n",
    "    df = pd.read_csv(input_file)\n",
    "    \n",
    "    # Convert OCC_DATE to datetime\n",
    "    df['OCC_DATE'] = pd.to_datetime(df['OCC_DATE'])\n",
    "    \n",
    "    # Convert cutoff_date string to datetime\n",
    "    cutoff_date = pd.to_datetime(cutoff_date)\n",
    "    \n",
    "    # Split the data\n",
    "    before_cutoff = df[df['OCC_DATE'] < cutoff_date]\n",
    "    after_cutoff = df[df['OCC_DATE'] >= cutoff_date]\n",
    "    \n",
    "    # Generate output filenames\n",
    "    base_name = input_file.rsplit('.', 1)[0]\n",
    "    before_file = f\"{base_name}_before_sept2024.csv\"\n",
    "    after_file = f\"{base_name}_after_sept2024.csv\"\n",
    "    \n",
    "    # Save to separate CSV files\n",
    "    before_cutoff.to_csv(before_file, index=False)\n",
    "    after_cutoff.to_csv(after_file, index=False)\n",
    "    \n",
    "    # Print summary\n",
    "    print(f\"Total records: {len(df)}\")\n",
    "    print(f\"Records before {cutoff_date.date()}: {len(before_cutoff)}\")\n",
    "    print(f\"Records after {cutoff_date.date()}: {len(after_cutoff)}\")\n",
    "    print(f\"\\nFiles created:\")\n",
    "    print(f\"- {before_file}\")\n",
    "    print(f\"- {after_file}\")\n",
    "\n",
    "# Define the cutoff date\n",
    "cutoff_date = '2024-09-01'\n",
    "\n",
    "# Assuming your input file is named 'input.csv'\n",
    "input_file = '../data_ingestion_service/src/data/Bicycle_Thefts_Open_Data.csv'\n",
    "\n",
    "# Run the function\n",
    "split_csv_by_date(input_file, cutoff_date)"
   ]
  }
 ],
 "metadata": {
  "kernelspec": {
   "display_name": ".venv",
   "language": "python",
   "name": "python3"
  },
  "language_info": {
   "codemirror_mode": {
    "name": "ipython",
    "version": 3
   },
   "file_extension": ".py",
   "mimetype": "text/x-python",
   "name": "python",
   "nbconvert_exporter": "python",
   "pygments_lexer": "ipython3",
   "version": "3.11.3"
  }
 },
 "nbformat": 4,
 "nbformat_minor": 2
}
