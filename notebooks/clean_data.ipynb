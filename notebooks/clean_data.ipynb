{
 "cells": [
  {
   "cell_type": "code",
   "execution_count": 2,
   "metadata": {},
   "outputs": [],
   "source": [
    "import pandas as pd"
   ]
  },
  {
   "cell_type": "code",
   "execution_count": 4,
   "metadata": {},
   "outputs": [
    {
     "name": "stdout",
     "output_type": "stream",
     "text": [
      "Index(['OBJECTID', 'EVENT_UNIQUE_ID', 'PRIMARY_OFFENCE', 'OCC_DATE',\n",
      "       'OCC_YEAR', 'OCC_MONTH', 'OCC_DOW', 'OCC_DAY', 'OCC_DOY', 'OCC_HOUR',\n",
      "       'REPORT_DATE', 'REPORT_YEAR', 'REPORT_MONTH', 'REPORT_DOW',\n",
      "       'REPORT_DAY', 'REPORT_DOY', 'REPORT_HOUR', 'DIVISION', 'LOCATION_TYPE',\n",
      "       'PREMISES_TYPE', 'BIKE_MAKE', 'BIKE_MODEL', 'BIKE_TYPE', 'BIKE_SPEED',\n",
      "       'BIKE_COLOUR', 'BIKE_COST', 'STATUS', 'HOOD_158', 'NEIGHBOURHOOD_158',\n",
      "       'HOOD_140', 'NEIGHBOURHOOD_140', 'LONG_WGS84', 'LAT_WGS84', 'x', 'y'],\n",
      "      dtype='object')\n",
      "<class 'pandas.core.indexes.base.Index'>\n"
     ]
    }
   ],
   "source": [
    "df = pd.read_csv('../data/Bicycle_Thefts.csv')\n",
    "print (df.keys())\n",
    "print (type(df.keys()))"
   ]
  },
  {
   "cell_type": "code",
   "execution_count": 6,
   "metadata": {},
   "outputs": [
    {
     "name": "stdout",
     "output_type": "stream",
     "text": [
      "Thông tin về DataFrame sau khi làm sạch:\n",
      "<class 'pandas.core.frame.DataFrame'>\n",
      "Index: 35795 entries, 0 to 36124\n",
      "Data columns (total 36 columns):\n",
      " #   Column             Non-Null Count  Dtype         \n",
      "---  ------             --------------  -----         \n",
      " 0   OBJECTID           35795 non-null  int64         \n",
      " 1   EVENT_UNIQUE_ID    35795 non-null  object        \n",
      " 2   PRIMARY_OFFENCE    35795 non-null  object        \n",
      " 3   OCC_DATE           35795 non-null  datetime64[ns]\n",
      " 4   OCC_YEAR           35795 non-null  int64         \n",
      " 5   OCC_MONTH          35795 non-null  object        \n",
      " 6   OCC_DOW            35795 non-null  object        \n",
      " 7   OCC_DAY            35795 non-null  int64         \n",
      " 8   OCC_DOY            35795 non-null  int64         \n",
      " 9   OCC_HOUR           35795 non-null  int64         \n",
      " 10  REPORT_DATE        35795 non-null  datetime64[ns]\n",
      " 11  REPORT_YEAR        35795 non-null  int64         \n",
      " 12  REPORT_MONTH       35795 non-null  object        \n",
      " 13  REPORT_DOW         35795 non-null  object        \n",
      " 14  REPORT_DAY         35795 non-null  int64         \n",
      " 15  REPORT_DOY         35795 non-null  int64         \n",
      " 16  REPORT_HOUR        35795 non-null  int64         \n",
      " 17  DIVISION           35795 non-null  object        \n",
      " 18  LOCATION_TYPE      35795 non-null  object        \n",
      " 19  PREMISES_TYPE      35795 non-null  object        \n",
      " 20  BIKE_MAKE          35621 non-null  object        \n",
      " 21  BIKE_MODEL         22496 non-null  object        \n",
      " 22  BIKE_TYPE          35795 non-null  object        \n",
      " 23  BIKE_SPEED         35795 non-null  float64       \n",
      " 24  BIKE_COLOUR        32645 non-null  object        \n",
      " 25  BIKE_COST          35795 non-null  float64       \n",
      " 26  STATUS             35795 non-null  object        \n",
      " 27  HOOD_158           35795 non-null  object        \n",
      " 28  NEIGHBOURHOOD_158  35795 non-null  object        \n",
      " 29  HOOD_140           35795 non-null  object        \n",
      " 30  NEIGHBOURHOOD_140  35795 non-null  object        \n",
      " 31  LONG_WGS84         35795 non-null  float64       \n",
      " 32  LAT_WGS84          35795 non-null  float64       \n",
      " 33  x                  35795 non-null  float64       \n",
      " 34  y                  35795 non-null  float64       \n",
      " 35  REPORT_DELAY       35795 non-null  float64       \n",
      "dtypes: datetime64[ns](2), float64(7), int64(9), object(18)\n",
      "memory usage: 10.1+ MB\n",
      "None\n",
      "\n",
      "Số lượng giá trị null trong mỗi cột:\n",
      "BIKE_MAKE        174\n",
      "BIKE_MODEL     13299\n",
      "BIKE_COLOUR     3150\n",
      "dtype: int64\n"
     ]
    }
   ],
   "source": [
    "import pandas as pd\n",
    "import numpy as np\n",
    "from datetime import datetime\n",
    "\n",
    "def clean_bicycle_data(df):\n",
    "    \"\"\"\n",
    "    Hàm làm sạch dữ liệu về các vụ trộm xe đạp\n",
    "    \"\"\"\n",
    "    # Tạo bản sao của DataFrame để tránh thay đổi dữ liệu gốc\n",
    "    df_clean = df.copy()\n",
    "    \n",
    "    # 1. Chuyển đổi các cột thời gian sang định dạng datetime\n",
    "    datetime_columns = ['OCC_DATE', 'REPORT_DATE']\n",
    "    for col in datetime_columns:\n",
    "        df_clean[col] = pd.to_datetime(df_clean[col])\n",
    "    \n",
    "    # 2. Chuẩn hóa các giá trị trong cột BIKE_COLOUR\n",
    "    df_clean['BIKE_COLOUR'] = df_clean['BIKE_COLOUR'].str.strip().str.upper()\n",
    "    color_mapping = {\n",
    "        'BLK': 'BLACK',\n",
    "        'WHI': 'WHITE',\n",
    "        'SILRED': 'SILVER RED',\n",
    "        '': 'UNKNOWN'\n",
    "    }\n",
    "    df_clean['BIKE_COLOUR'] = df_clean['BIKE_COLOUR'].map(lambda x: color_mapping.get(x, x))\n",
    "    \n",
    "    # 3. Xử lý giá trị thiếu trong BIKE_COST\n",
    "    df_clean['BIKE_COST'] = pd.to_numeric(df_clean['BIKE_COST'], errors='coerce')\n",
    "    # Điền giá trị thiếu bằng median của loại xe tương ứng\n",
    "    df_clean['BIKE_COST'] = df_clean.groupby('BIKE_TYPE')['BIKE_COST'].transform(\n",
    "        lambda x: x.fillna(x.median())\n",
    "    )\n",
    "    # Nếu vẫn còn giá trị NA (do cả nhóm đều NA), điền bằng median tổng thể\n",
    "    df_clean['BIKE_COST'] = df_clean['BIKE_COST'].fillna(df_clean['BIKE_COST'].median())\n",
    "    \n",
    "    # 4. Chuẩn hóa BIKE_SPEED thành numeric\n",
    "    df_clean['BIKE_SPEED'] = pd.to_numeric(df_clean['BIKE_SPEED'], errors='coerce')\n",
    "    df_clean['BIKE_SPEED'] = df_clean['BIKE_SPEED'].fillna(df_clean['BIKE_SPEED'].median())\n",
    "    \n",
    "    # 5. Chuẩn hóa BIKE_TYPE\n",
    "    df_clean['BIKE_TYPE'] = df_clean['BIKE_TYPE'].fillna('UNKNOWN')\n",
    "    bike_type_mapping = {\n",
    "        'MT': 'MOUNTAIN',\n",
    "        'RG': 'ROAD',\n",
    "        'RC': 'RACING',\n",
    "        'OT': 'OTHER'\n",
    "    }\n",
    "    df_clean['BIKE_TYPE'] = df_clean['BIKE_TYPE'].map(lambda x: bike_type_mapping.get(x, x))\n",
    "    \n",
    "    # 6. Làm sạch và chuẩn hóa các cột địa điểm\n",
    "    df_clean['LOCATION_TYPE'] = df_clean['LOCATION_TYPE'].fillna('UNKNOWN')\n",
    "    df_clean['PREMISES_TYPE'] = df_clean['PREMISES_TYPE'].fillna('UNKNOWN')\n",
    "    \n",
    "    # 7. Xử lý tọa độ địa lý\n",
    "    # Loại bỏ các tọa độ không hợp lệ (nếu có)\n",
    "    df_clean = df_clean[\n",
    "        (df_clean['LAT_WGS84'].between(43.5, 44.0)) & \n",
    "        (df_clean['LONG_WGS84'].between(-80.0, -79.0))\n",
    "    ]\n",
    "    \n",
    "    # 8. Tạo thêm các trường hữu ích\n",
    "    df_clean['REPORT_DELAY'] = (df_clean['REPORT_DATE'] - df_clean['OCC_DATE']).dt.total_seconds() / 3600  # Số giờ\n",
    "    \n",
    "    # 9. Chuẩn hóa các cột BIKE_MAKE và BIKE_MODEL\n",
    "    df_clean['BIKE_MAKE'] = df_clean['BIKE_MAKE'].str.strip().str.upper()\n",
    "    df_clean['BIKE_MODEL'] = df_clean['BIKE_MODEL'].str.strip().str.upper()\n",
    "    \n",
    "    # 10. Đảm bảo STATUS chỉ có các giá trị hợp lệ\n",
    "    valid_statuses = ['STOLEN', 'RECOVERED']\n",
    "    df_clean['STATUS'] = df_clean['STATUS'].apply(lambda x: x if x in valid_statuses else 'UNKNOWN')\n",
    "    \n",
    "    return df_clean\n",
    "\n",
    "# Làm sạch dữ liệu\n",
    "df_cleaned = clean_bicycle_data(df)\n",
    "\n",
    "# Kiểm tra kết quả\n",
    "print(\"Thông tin về DataFrame sau khi làm sạch:\")\n",
    "print(df_cleaned.info())\n",
    "\n",
    "# Kiểm tra các giá trị null còn lại\n",
    "null_counts = df_cleaned.isnull().sum()\n",
    "print(\"\\nSố lượng giá trị null trong mỗi cột:\")\n",
    "print(null_counts[null_counts > 0])\n",
    "\n",
    "df_cleaned.to_csv('data/clean_data.csv', index=False)"
   ]
  },
  {
   "cell_type": "code",
   "execution_count": 9,
   "metadata": {},
   "outputs": [
    {
     "name": "stderr",
     "output_type": "stream",
     "text": [
      "C:\\Users\\ASUS\\AppData\\Local\\Temp\\ipykernel_1220\\3987911376.py:1: DtypeWarning: Columns (27,29) have mixed types. Specify dtype option on import or set low_memory=False.\n",
      "  df = pd.read_csv('../data/clean_data.csv')\n"
     ]
    },
    {
     "data": {
      "text/plain": [
       "STATUS\n",
       "STOLEN       34834\n",
       "UNKNOWN        587\n",
       "RECOVERED      374\n",
       "Name: count, dtype: int64"
      ]
     },
     "execution_count": 9,
     "metadata": {},
     "output_type": "execute_result"
    }
   ],
   "source": [
    "df = pd.read_csv('../data/clean_data.csv')\n",
    "df['STATUS'].value_counts()"
   ]
  },
  {
   "cell_type": "code",
   "execution_count": null,
   "metadata": {},
   "outputs": [
    {
     "data": {
      "text/plain": [
       "PREMISES_TYPE\n",
       "Residential    14069\n",
       "Outside        10704\n",
       "Commercial      5811\n",
       "Other           5211\n",
       "Name: count, dtype: int64"
      ]
     },
     "execution_count": 19,
     "metadata": {},
     "output_type": "execute_result"
    }
   ],
   "source": [
    "for id, row in enumerate(df['PREMISES_TYPE']):\n",
    "    if id == 'Apartment' or id == 'House':\n",
    "        df['PREMISES_TYPE'][row] = 'Residential'\n",
    "    if id == 'Transit':\n",
    "        df['PREMISES_TYPE'][row] = 'Other'\n",
    "    if id == \"Educational\":\n",
    "        df['PREMISES_TYPE'][row] = 'Commercial'\n",
    "\n",
    "df.to_csv('../data/clean_data.csv', index=False)\n",
    "\n",
    "df['PREMISES_TYPE'].value_counts()"
   ]
  }
 ],
 "metadata": {
  "kernelspec": {
   "display_name": ".venv",
   "language": "python",
   "name": "python3"
  },
  "language_info": {
   "codemirror_mode": {
    "name": "ipython",
    "version": 3
   },
   "file_extension": ".py",
   "mimetype": "text/x-python",
   "name": "python",
   "nbconvert_exporter": "python",
   "pygments_lexer": "ipython3",
   "version": "3.11.3"
  }
 },
 "nbformat": 4,
 "nbformat_minor": 2
}
